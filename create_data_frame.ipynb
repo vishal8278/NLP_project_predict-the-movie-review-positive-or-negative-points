{
 "cells": [
  {
   "cell_type": "code",
   "execution_count": 45,
   "id": "862f5d39",
   "metadata": {},
   "outputs": [],
   "source": [
    "import numpy as np\n",
    "import pandas as pd\n",
    "import matplotlib.pyplot as plt\n",
    "%matplotlib inline\n",
    "import seaborn as sns"
   ]
  },
  {
   "cell_type": "code",
   "execution_count": 46,
   "id": "8cee57d8",
   "metadata": {},
   "outputs": [],
   "source": [
    "df = pd.read_csv('IMDB Dataset.csv')"
   ]
  },
  {
   "cell_type": "code",
   "execution_count": 47,
   "id": "c6188df7",
   "metadata": {},
   "outputs": [
    {
     "data": {
      "text/html": [
       "<div>\n",
       "<style scoped>\n",
       "    .dataframe tbody tr th:only-of-type {\n",
       "        vertical-align: middle;\n",
       "    }\n",
       "\n",
       "    .dataframe tbody tr th {\n",
       "        vertical-align: top;\n",
       "    }\n",
       "\n",
       "    .dataframe thead th {\n",
       "        text-align: right;\n",
       "    }\n",
       "</style>\n",
       "<table border=\"1\" class=\"dataframe\">\n",
       "  <thead>\n",
       "    <tr style=\"text-align: right;\">\n",
       "      <th></th>\n",
       "      <th>review</th>\n",
       "      <th>sentiment</th>\n",
       "    </tr>\n",
       "  </thead>\n",
       "  <tbody>\n",
       "    <tr>\n",
       "      <th>0</th>\n",
       "      <td>One of the other reviewers has mentioned that ...</td>\n",
       "      <td>positive</td>\n",
       "    </tr>\n",
       "    <tr>\n",
       "      <th>1</th>\n",
       "      <td>A wonderful little production. &lt;br /&gt;&lt;br /&gt;The...</td>\n",
       "      <td>positive</td>\n",
       "    </tr>\n",
       "    <tr>\n",
       "      <th>2</th>\n",
       "      <td>I thought this was a wonderful way to spend ti...</td>\n",
       "      <td>positive</td>\n",
       "    </tr>\n",
       "    <tr>\n",
       "      <th>3</th>\n",
       "      <td>Basically there's a family where a little boy ...</td>\n",
       "      <td>negative</td>\n",
       "    </tr>\n",
       "    <tr>\n",
       "      <th>4</th>\n",
       "      <td>Petter Mattei's \"Love in the Time of Money\" is...</td>\n",
       "      <td>positive</td>\n",
       "    </tr>\n",
       "  </tbody>\n",
       "</table>\n",
       "</div>"
      ],
      "text/plain": [
       "                                              review sentiment\n",
       "0  One of the other reviewers has mentioned that ...  positive\n",
       "1  A wonderful little production. <br /><br />The...  positive\n",
       "2  I thought this was a wonderful way to spend ti...  positive\n",
       "3  Basically there's a family where a little boy ...  negative\n",
       "4  Petter Mattei's \"Love in the Time of Money\" is...  positive"
      ]
     },
     "execution_count": 47,
     "metadata": {},
     "output_type": "execute_result"
    }
   ],
   "source": [
    "df.head()"
   ]
  },
  {
   "cell_type": "code",
   "execution_count": 48,
   "id": "b59ed769",
   "metadata": {},
   "outputs": [
    {
     "data": {
      "text/html": [
       "<div>\n",
       "<style scoped>\n",
       "    .dataframe tbody tr th:only-of-type {\n",
       "        vertical-align: middle;\n",
       "    }\n",
       "\n",
       "    .dataframe tbody tr th {\n",
       "        vertical-align: top;\n",
       "    }\n",
       "\n",
       "    .dataframe thead th {\n",
       "        text-align: right;\n",
       "    }\n",
       "</style>\n",
       "<table border=\"1\" class=\"dataframe\">\n",
       "  <thead>\n",
       "    <tr style=\"text-align: right;\">\n",
       "      <th></th>\n",
       "      <th>review</th>\n",
       "      <th>sentiment</th>\n",
       "    </tr>\n",
       "  </thead>\n",
       "  <tbody>\n",
       "    <tr>\n",
       "      <th>272</th>\n",
       "      <td>The message of a world on the brink of war is ...</td>\n",
       "      <td>positive</td>\n",
       "    </tr>\n",
       "  </tbody>\n",
       "</table>\n",
       "</div>"
      ],
      "text/plain": [
       "                                                review sentiment\n",
       "272  The message of a world on the brink of war is ...  positive"
      ]
     },
     "execution_count": 48,
     "metadata": {},
     "output_type": "execute_result"
    }
   ],
   "source": [
    "df.sample()"
   ]
  },
  {
   "cell_type": "code",
   "execution_count": 49,
   "id": "916cce7e",
   "metadata": {},
   "outputs": [
    {
     "data": {
      "text/plain": [
       "(50000, 2)"
      ]
     },
     "execution_count": 49,
     "metadata": {},
     "output_type": "execute_result"
    }
   ],
   "source": [
    "df.shape"
   ]
  },
  {
   "cell_type": "code",
   "execution_count": 50,
   "id": "3762b383",
   "metadata": {},
   "outputs": [
    {
     "data": {
      "text/plain": [
       "review       object\n",
       "sentiment    object\n",
       "dtype: object"
      ]
     },
     "execution_count": 50,
     "metadata": {},
     "output_type": "execute_result"
    }
   ],
   "source": [
    "df.dtypes\n"
   ]
  },
  {
   "cell_type": "code",
   "execution_count": 51,
   "id": "82a1c0e3",
   "metadata": {},
   "outputs": [
    {
     "data": {
      "text/plain": [
       "\"One of the other reviewers has mentioned that after watching just 1 Oz episode you'll be hooked. They are right, as this is exactly what happened with me.<br /><br />The first thing that struck me about Oz was its brutality and unflinching scenes of violence, which set in right from the word GO. Trust me, this is not a show for the faint hearted or timid. This show pulls no punches with regards to drugs, sex or violence. Its is hardcore, in the classic use of the word.<br /><br />It is called OZ as that is the nickname given to the Oswald Maximum Security State Penitentary. It focuses mainly on Emerald City, an experimental section of the prison where all the cells have glass fronts and face inwards, so privacy is not high on the agenda. Em City is home to many..Aryans, Muslims, gangstas, Latinos, Christians, Italians, Irish and more....so scuffles, death stares, dodgy dealings and shady agreements are never far away.<br /><br />I would say the main appeal of the show is due to the fact that it goes where other shows wouldn't dare. Forget pretty pictures painted for mainstream audiences, forget charm, forget romance...OZ doesn't mess around. The first episode I ever saw struck me as so nasty it was surreal, I couldn't say I was ready for it, but as I watched more, I developed a taste for Oz, and got accustomed to the high levels of graphic violence. Not just violence, but injustice (crooked guards who'll be sold out for a nickel, inmates who'll kill on order and get away with it, well mannered, middle class inmates being turned into prison bitches due to their lack of street skills or prison experience) Watching Oz, you may become comfortable with what is uncomfortable viewing....thats if you can get in touch with your darker side.\""
      ]
     },
     "execution_count": 51,
     "metadata": {},
     "output_type": "execute_result"
    }
   ],
   "source": [
    "df['review'][0]"
   ]
  },
  {
   "cell_type": "code",
   "execution_count": 52,
   "id": "de2594e4",
   "metadata": {},
   "outputs": [],
   "source": [
    "df=df.sample(50)"
   ]
  },
  {
   "cell_type": "code",
   "execution_count": 53,
   "id": "93b4157d",
   "metadata": {},
   "outputs": [
    {
     "data": {
      "text/plain": [
       "(50, 2)"
      ]
     },
     "execution_count": 53,
     "metadata": {},
     "output_type": "execute_result"
    }
   ],
   "source": [
    "df.shape"
   ]
  },
  {
   "cell_type": "code",
   "execution_count": 54,
   "id": "ce9f4f5d",
   "metadata": {},
   "outputs": [
    {
     "data": {
      "text/plain": [
       "review       0\n",
       "sentiment    0\n",
       "dtype: int64"
      ]
     },
     "execution_count": 54,
     "metadata": {},
     "output_type": "execute_result"
    }
   ],
   "source": [
    "df.isnull().sum()"
   ]
  },
  {
   "cell_type": "code",
   "execution_count": 55,
   "id": "51c96f42",
   "metadata": {},
   "outputs": [],
   "source": [
    "df['sentiment'].replace({'positive':1,'negative':0}, inplace=True)"
   ]
  },
  {
   "cell_type": "code",
   "execution_count": 56,
   "id": "d6a0389e",
   "metadata": {},
   "outputs": [
    {
     "data": {
      "text/html": [
       "<div>\n",
       "<style scoped>\n",
       "    .dataframe tbody tr th:only-of-type {\n",
       "        vertical-align: middle;\n",
       "    }\n",
       "\n",
       "    .dataframe tbody tr th {\n",
       "        vertical-align: top;\n",
       "    }\n",
       "\n",
       "    .dataframe thead th {\n",
       "        text-align: right;\n",
       "    }\n",
       "</style>\n",
       "<table border=\"1\" class=\"dataframe\">\n",
       "  <thead>\n",
       "    <tr style=\"text-align: right;\">\n",
       "      <th></th>\n",
       "      <th>review</th>\n",
       "      <th>sentiment</th>\n",
       "    </tr>\n",
       "  </thead>\n",
       "  <tbody>\n",
       "    <tr>\n",
       "      <th>20145</th>\n",
       "      <td>The tragedy of the doomed ship Titanic has ins...</td>\n",
       "      <td>0</td>\n",
       "    </tr>\n",
       "    <tr>\n",
       "      <th>13741</th>\n",
       "      <td>I LOVE this movie. and Disney channel is ridic...</td>\n",
       "      <td>1</td>\n",
       "    </tr>\n",
       "    <tr>\n",
       "      <th>5737</th>\n",
       "      <td>Cowboys James Stewart and Walter Brennan take ...</td>\n",
       "      <td>1</td>\n",
       "    </tr>\n",
       "    <tr>\n",
       "      <th>49727</th>\n",
       "      <td>This is an \"anthology\" horror film. It's made ...</td>\n",
       "      <td>0</td>\n",
       "    </tr>\n",
       "    <tr>\n",
       "      <th>39409</th>\n",
       "      <td>With the death of GEORGE NADER, on 4 February ...</td>\n",
       "      <td>1</td>\n",
       "    </tr>\n",
       "  </tbody>\n",
       "</table>\n",
       "</div>"
      ],
      "text/plain": [
       "                                                  review  sentiment\n",
       "20145  The tragedy of the doomed ship Titanic has ins...          0\n",
       "13741  I LOVE this movie. and Disney channel is ridic...          1\n",
       "5737   Cowboys James Stewart and Walter Brennan take ...          1\n",
       "49727  This is an \"anthology\" horror film. It's made ...          0\n",
       "39409  With the death of GEORGE NADER, on 4 February ...          1"
      ]
     },
     "execution_count": 56,
     "metadata": {},
     "output_type": "execute_result"
    }
   ],
   "source": [
    "df.head()"
   ]
  },
  {
   "cell_type": "code",
   "execution_count": 57,
   "id": "013eeb2b",
   "metadata": {},
   "outputs": [
    {
     "data": {
      "text/plain": [
       "\"Cowboys James Stewart and Walter Brennan take their herd from Seattle to Alaska and on into Canada to stake a claim. Once there, they have to contend with seductive, shifty businesswoman Ruth Roman and ice-cold, happy-go-lucky villain James McIntire.John Wayne may get talked about more, but his good pal Stewart made some excellent, hard-edged westerns too, some with the great director Anthony Mann. Frankly, I'd take this, with it's sturdy action sequences and fine melodrama, over North To Alaska any day!The Far Country features some breathtaking scenery and cinematography that should definitely have been shot in widescreen.Also, there's some strong support by the always reliable Brennan, Roman (who's great), the incredibly cute Corrine Calvet, and James McIntire, who plays one of my favorite types of bad guy, the kind that doesn't take himself too seriously.This would make a great double-bill with another highly recommended Mann/Stewart northwest-set western, Bend Of The River.\""
      ]
     },
     "execution_count": 57,
     "metadata": {},
     "output_type": "execute_result"
    }
   ],
   "source": [
    "import re\n",
    "clean = re.compile('<.*?>')\n",
    "re.sub(clean,'',df.iloc[2].review)"
   ]
  },
  {
   "cell_type": "code",
   "execution_count": 58,
   "id": "2558f744",
   "metadata": {},
   "outputs": [],
   "source": [
    "def clean_html(text):\n",
    "    clean = re.compile('<.*?>')\n",
    "    return re.sub(clean,'',text)"
   ]
  },
  {
   "cell_type": "code",
   "execution_count": 59,
   "id": "b723b873",
   "metadata": {},
   "outputs": [],
   "source": [
    "df['review']=df['review'].apply(clean_html)"
   ]
  },
  {
   "cell_type": "code",
   "execution_count": 60,
   "id": "ac762c5b",
   "metadata": {},
   "outputs": [],
   "source": [
    "def covert_lower(text):\n",
    "    return text.lower()"
   ]
  },
  {
   "cell_type": "code",
   "execution_count": 61,
   "id": "b73c69fa",
   "metadata": {},
   "outputs": [],
   "source": [
    "df['review']=df['review'].apply(covert_lower)"
   ]
  },
  {
   "cell_type": "code",
   "execution_count": 62,
   "id": "a3f82d4d",
   "metadata": {},
   "outputs": [],
   "source": [
    "def remove_special(text):\n",
    "    x=''\n",
    "    for i in text:\n",
    "        if i.isalnum():\n",
    "            x=x+i\n",
    "        else:\n",
    "            x=x+' '\n",
    "    return x"
   ]
  },
  {
   "cell_type": "code",
   "execution_count": 63,
   "id": "a083ccdc",
   "metadata": {},
   "outputs": [
    {
     "data": {
      "text/plain": [
       "'To add scientific notation  a way of writing numbers that allows you to write only as many digits  of specificity  as you would like  you can write 7 7   10   2 m3 of kerosene 1 204   10   3 m3 of O2 and 3 3   10   7 newtons '"
      ]
     },
     "execution_count": 63,
     "metadata": {},
     "output_type": "execute_result"
    }
   ],
   "source": [
    "remove_special('To add scientific notation {a way of writing numbers that allows you to write only as many digits `of specificity` as you would like} you can write 7.7 * 10 ^ 2 m3 of kerosene 1.204 * 10 ^ 3 m3 of O2 and 3.3 * 10 ^ 7 newtons.')"
   ]
  },
  {
   "cell_type": "code",
   "execution_count": 64,
   "id": "ac559811",
   "metadata": {},
   "outputs": [],
   "source": [
    "df['review']=df['review'].apply(remove_special)"
   ]
  },
  {
   "cell_type": "code",
   "execution_count": 65,
   "id": "af1781cb",
   "metadata": {},
   "outputs": [
    {
     "name": "stderr",
     "output_type": "stream",
     "text": [
      "[nltk_data] Downloading package stopwords to\n",
      "[nltk_data]     C:\\Users\\vk394\\AppData\\Roaming\\nltk_data...\n",
      "[nltk_data]   Package stopwords is already up-to-date!\n"
     ]
    },
    {
     "data": {
      "text/plain": [
       "True"
      ]
     },
     "execution_count": 65,
     "metadata": {},
     "output_type": "execute_result"
    }
   ],
   "source": [
    "import nltk\n",
    "nltk.download('stopwords')"
   ]
  },
  {
   "cell_type": "code",
   "execution_count": 66,
   "id": "57a1e333",
   "metadata": {},
   "outputs": [],
   "source": [
    "from nltk.corpus import stopwords\n"
   ]
  },
  {
   "cell_type": "code",
   "execution_count": 67,
   "id": "3ba43d3d",
   "metadata": {},
   "outputs": [
    {
     "data": {
      "text/plain": [
       "['i',\n",
       " 'me',\n",
       " 'my',\n",
       " 'myself',\n",
       " 'we',\n",
       " 'our',\n",
       " 'ours',\n",
       " 'ourselves',\n",
       " 'you',\n",
       " \"you're\",\n",
       " \"you've\",\n",
       " \"you'll\",\n",
       " \"you'd\",\n",
       " 'your',\n",
       " 'yours',\n",
       " 'yourself',\n",
       " 'yourselves',\n",
       " 'he',\n",
       " 'him',\n",
       " 'his',\n",
       " 'himself',\n",
       " 'she',\n",
       " \"she's\",\n",
       " 'her',\n",
       " 'hers',\n",
       " 'herself',\n",
       " 'it',\n",
       " \"it's\",\n",
       " 'its',\n",
       " 'itself',\n",
       " 'they',\n",
       " 'them',\n",
       " 'their',\n",
       " 'theirs',\n",
       " 'themselves',\n",
       " 'what',\n",
       " 'which',\n",
       " 'who',\n",
       " 'whom',\n",
       " 'this',\n",
       " 'that',\n",
       " \"that'll\",\n",
       " 'these',\n",
       " 'those',\n",
       " 'am',\n",
       " 'is',\n",
       " 'are',\n",
       " 'was',\n",
       " 'were',\n",
       " 'be',\n",
       " 'been',\n",
       " 'being',\n",
       " 'have',\n",
       " 'has',\n",
       " 'had',\n",
       " 'having',\n",
       " 'do',\n",
       " 'does',\n",
       " 'did',\n",
       " 'doing',\n",
       " 'a',\n",
       " 'an',\n",
       " 'the',\n",
       " 'and',\n",
       " 'but',\n",
       " 'if',\n",
       " 'or',\n",
       " 'because',\n",
       " 'as',\n",
       " 'until',\n",
       " 'while',\n",
       " 'of',\n",
       " 'at',\n",
       " 'by',\n",
       " 'for',\n",
       " 'with',\n",
       " 'about',\n",
       " 'against',\n",
       " 'between',\n",
       " 'into',\n",
       " 'through',\n",
       " 'during',\n",
       " 'before',\n",
       " 'after',\n",
       " 'above',\n",
       " 'below',\n",
       " 'to',\n",
       " 'from',\n",
       " 'up',\n",
       " 'down',\n",
       " 'in',\n",
       " 'out',\n",
       " 'on',\n",
       " 'off',\n",
       " 'over',\n",
       " 'under',\n",
       " 'again',\n",
       " 'further',\n",
       " 'then',\n",
       " 'once',\n",
       " 'here',\n",
       " 'there',\n",
       " 'when',\n",
       " 'where',\n",
       " 'why',\n",
       " 'how',\n",
       " 'all',\n",
       " 'any',\n",
       " 'both',\n",
       " 'each',\n",
       " 'few',\n",
       " 'more',\n",
       " 'most',\n",
       " 'other',\n",
       " 'some',\n",
       " 'such',\n",
       " 'no',\n",
       " 'nor',\n",
       " 'not',\n",
       " 'only',\n",
       " 'own',\n",
       " 'same',\n",
       " 'so',\n",
       " 'than',\n",
       " 'too',\n",
       " 'very',\n",
       " 's',\n",
       " 't',\n",
       " 'can',\n",
       " 'will',\n",
       " 'just',\n",
       " 'don',\n",
       " \"don't\",\n",
       " 'should',\n",
       " \"should've\",\n",
       " 'now',\n",
       " 'd',\n",
       " 'll',\n",
       " 'm',\n",
       " 'o',\n",
       " 're',\n",
       " 've',\n",
       " 'y',\n",
       " 'ain',\n",
       " 'aren',\n",
       " \"aren't\",\n",
       " 'couldn',\n",
       " \"couldn't\",\n",
       " 'didn',\n",
       " \"didn't\",\n",
       " 'doesn',\n",
       " \"doesn't\",\n",
       " 'hadn',\n",
       " \"hadn't\",\n",
       " 'hasn',\n",
       " \"hasn't\",\n",
       " 'haven',\n",
       " \"haven't\",\n",
       " 'isn',\n",
       " \"isn't\",\n",
       " 'ma',\n",
       " 'mightn',\n",
       " \"mightn't\",\n",
       " 'mustn',\n",
       " \"mustn't\",\n",
       " 'needn',\n",
       " \"needn't\",\n",
       " 'shan',\n",
       " \"shan't\",\n",
       " 'shouldn',\n",
       " \"shouldn't\",\n",
       " 'wasn',\n",
       " \"wasn't\",\n",
       " 'weren',\n",
       " \"weren't\",\n",
       " 'won',\n",
       " \"won't\",\n",
       " 'wouldn',\n",
       " \"wouldn't\"]"
      ]
     },
     "execution_count": 67,
     "metadata": {},
     "output_type": "execute_result"
    }
   ],
   "source": [
    "stopwords.words('english')"
   ]
  },
  {
   "cell_type": "code",
   "execution_count": 68,
   "id": "bc82cce9",
   "metadata": {},
   "outputs": [],
   "source": [
    "def remove_stopwords(text):\n",
    "    x=[]\n",
    "    for i in text.split():\n",
    "        if i not in stopwords.words('english'):\n",
    "            x.append(i)\n",
    "    y=x[:]\n",
    "    x.clear()\n",
    "    return y"
   ]
  },
  {
   "cell_type": "code",
   "execution_count": 69,
   "id": "9ca1da73",
   "metadata": {},
   "outputs": [],
   "source": [
    "df['review']=df['review'].apply(remove_stopwords)"
   ]
  },
  {
   "cell_type": "code",
   "execution_count": 70,
   "id": "ca161545",
   "metadata": {},
   "outputs": [
    {
     "data": {
      "text/html": [
       "<div>\n",
       "<style scoped>\n",
       "    .dataframe tbody tr th:only-of-type {\n",
       "        vertical-align: middle;\n",
       "    }\n",
       "\n",
       "    .dataframe tbody tr th {\n",
       "        vertical-align: top;\n",
       "    }\n",
       "\n",
       "    .dataframe thead th {\n",
       "        text-align: right;\n",
       "    }\n",
       "</style>\n",
       "<table border=\"1\" class=\"dataframe\">\n",
       "  <thead>\n",
       "    <tr style=\"text-align: right;\">\n",
       "      <th></th>\n",
       "      <th>review</th>\n",
       "      <th>sentiment</th>\n",
       "    </tr>\n",
       "  </thead>\n",
       "  <tbody>\n",
       "    <tr>\n",
       "      <th>20145</th>\n",
       "      <td>[tragedy, doomed, ship, titanic, inspired, man...</td>\n",
       "      <td>0</td>\n",
       "    </tr>\n",
       "    <tr>\n",
       "      <th>13741</th>\n",
       "      <td>[love, movie, disney, channel, ridiculous, pla...</td>\n",
       "      <td>1</td>\n",
       "    </tr>\n",
       "    <tr>\n",
       "      <th>5737</th>\n",
       "      <td>[cowboys, james, stewart, walter, brennan, tak...</td>\n",
       "      <td>1</td>\n",
       "    </tr>\n",
       "    <tr>\n",
       "      <th>49727</th>\n",
       "      <td>[anthology, horror, film, made, 4, short, stor...</td>\n",
       "      <td>0</td>\n",
       "    </tr>\n",
       "    <tr>\n",
       "      <th>39409</th>\n",
       "      <td>[death, george, nader, 4, february, 2002, thou...</td>\n",
       "      <td>1</td>\n",
       "    </tr>\n",
       "    <tr>\n",
       "      <th>14455</th>\n",
       "      <td>[hilarious, sellers, funniest, shame, get, vid...</td>\n",
       "      <td>1</td>\n",
       "    </tr>\n",
       "    <tr>\n",
       "      <th>31328</th>\n",
       "      <td>[without, doubt, worst, movie, ever, seen, fun...</td>\n",
       "      <td>0</td>\n",
       "    </tr>\n",
       "    <tr>\n",
       "      <th>42954</th>\n",
       "      <td>[movie, fun, especially, 8, 15, frankie, muniz...</td>\n",
       "      <td>1</td>\n",
       "    </tr>\n",
       "    <tr>\n",
       "      <th>40504</th>\n",
       "      <td>[good, gets, six, episodes, tracing, briefly, ...</td>\n",
       "      <td>1</td>\n",
       "    </tr>\n",
       "    <tr>\n",
       "      <th>527</th>\n",
       "      <td>[ever, heard, saying, people, telegraph, inten...</td>\n",
       "      <td>0</td>\n",
       "    </tr>\n",
       "    <tr>\n",
       "      <th>1355</th>\n",
       "      <td>[huge, fan, comes, doctor, series, still, disa...</td>\n",
       "      <td>0</td>\n",
       "    </tr>\n",
       "    <tr>\n",
       "      <th>47529</th>\n",
       "      <td>[plot, line, expose, belly, american, politics...</td>\n",
       "      <td>1</td>\n",
       "    </tr>\n",
       "    <tr>\n",
       "      <th>48842</th>\n",
       "      <td>[trusted, instincts, better, expectations, dis...</td>\n",
       "      <td>0</td>\n",
       "    </tr>\n",
       "    <tr>\n",
       "      <th>6534</th>\n",
       "      <td>[norma, spent, 20s, playing, beautiful, ingenu...</td>\n",
       "      <td>1</td>\n",
       "    </tr>\n",
       "    <tr>\n",
       "      <th>30114</th>\n",
       "      <td>[set, 2017, although, one, might, easily, mist...</td>\n",
       "      <td>1</td>\n",
       "    </tr>\n",
       "    <tr>\n",
       "      <th>30143</th>\n",
       "      <td>[wow, curse, michael, myers, great, film, susp...</td>\n",
       "      <td>1</td>\n",
       "    </tr>\n",
       "    <tr>\n",
       "      <th>35453</th>\n",
       "      <td>[despite, negative, comments, film, garnered, ...</td>\n",
       "      <td>1</td>\n",
       "    </tr>\n",
       "    <tr>\n",
       "      <th>29106</th>\n",
       "      <td>[columbo, unique, really, know, exact, outcome...</td>\n",
       "      <td>1</td>\n",
       "    </tr>\n",
       "    <tr>\n",
       "      <th>37986</th>\n",
       "      <td>[name, identity, memories, lost, girlfriend, w...</td>\n",
       "      <td>1</td>\n",
       "    </tr>\n",
       "    <tr>\n",
       "      <th>39425</th>\n",
       "      <td>[ccmovieman, 1, must, reviewer, new, york, tim...</td>\n",
       "      <td>1</td>\n",
       "    </tr>\n",
       "    <tr>\n",
       "      <th>40872</th>\n",
       "      <td>[like, movie, least, vestige, story, occur, mo...</td>\n",
       "      <td>0</td>\n",
       "    </tr>\n",
       "    <tr>\n",
       "      <th>8283</th>\n",
       "      <td>[sure, expect, glad, went, see, smart, slightl...</td>\n",
       "      <td>1</td>\n",
       "    </tr>\n",
       "    <tr>\n",
       "      <th>21225</th>\n",
       "      <td>[hollywood, hotel, relationships, many, films,...</td>\n",
       "      <td>1</td>\n",
       "    </tr>\n",
       "    <tr>\n",
       "      <th>5017</th>\n",
       "      <td>[one, favorite, movies, childhood, watched, ma...</td>\n",
       "      <td>1</td>\n",
       "    </tr>\n",
       "    <tr>\n",
       "      <th>42642</th>\n",
       "      <td>[movie, simply, awesome, hilarious, although, ...</td>\n",
       "      <td>1</td>\n",
       "    </tr>\n",
       "    <tr>\n",
       "      <th>36976</th>\n",
       "      <td>[movie, awful, even, know, begin, speechless, ...</td>\n",
       "      <td>0</td>\n",
       "    </tr>\n",
       "    <tr>\n",
       "      <th>3000</th>\n",
       "      <td>[bought, set, 4, dvds, 10, bucks, local, sunco...</td>\n",
       "      <td>0</td>\n",
       "    </tr>\n",
       "    <tr>\n",
       "      <th>38061</th>\n",
       "      <td>[seen, four, japanese, horror, films, impressi...</td>\n",
       "      <td>0</td>\n",
       "    </tr>\n",
       "    <tr>\n",
       "      <th>10610</th>\n",
       "      <td>[may, say, johnson, elvis, work, possible, see...</td>\n",
       "      <td>0</td>\n",
       "    </tr>\n",
       "    <tr>\n",
       "      <th>40694</th>\n",
       "      <td>[excellent, family, movie, gives, lot, think, ...</td>\n",
       "      <td>1</td>\n",
       "    </tr>\n",
       "    <tr>\n",
       "      <th>19204</th>\n",
       "      <td>[excellent, idea, scenery, beautiful, ends, se...</td>\n",
       "      <td>0</td>\n",
       "    </tr>\n",
       "    <tr>\n",
       "      <th>47329</th>\n",
       "      <td>[featured, 2006, cannes, film, festival, gaini...</td>\n",
       "      <td>1</td>\n",
       "    </tr>\n",
       "    <tr>\n",
       "      <th>26510</th>\n",
       "      <td>[first, saw, picked, suggestion, tivo, system,...</td>\n",
       "      <td>0</td>\n",
       "    </tr>\n",
       "    <tr>\n",
       "      <th>37041</th>\n",
       "      <td>[dashing, errol, flynn, brings, usual, flair, ...</td>\n",
       "      <td>1</td>\n",
       "    </tr>\n",
       "    <tr>\n",
       "      <th>20715</th>\n",
       "      <td>[massive, hitchcock, fan, ever, since, seeing,...</td>\n",
       "      <td>1</td>\n",
       "    </tr>\n",
       "    <tr>\n",
       "      <th>33539</th>\n",
       "      <td>[always, suprised, different, people, almost, ...</td>\n",
       "      <td>0</td>\n",
       "    </tr>\n",
       "    <tr>\n",
       "      <th>48253</th>\n",
       "      <td>[movie, took, jerry, springer, approach, super...</td>\n",
       "      <td>1</td>\n",
       "    </tr>\n",
       "    <tr>\n",
       "      <th>31436</th>\n",
       "      <td>[back, mid, late, 80s, oav, anime, title, bubb...</td>\n",
       "      <td>1</td>\n",
       "    </tr>\n",
       "    <tr>\n",
       "      <th>44875</th>\n",
       "      <td>[come, worse, time, nation, entering, reagan, ...</td>\n",
       "      <td>1</td>\n",
       "    </tr>\n",
       "    <tr>\n",
       "      <th>39598</th>\n",
       "      <td>[film, friðrik, þór, director, children, natur...</td>\n",
       "      <td>1</td>\n",
       "    </tr>\n",
       "    <tr>\n",
       "      <th>13614</th>\n",
       "      <td>[sweden, seen, movie, thing, thought, okay, se...</td>\n",
       "      <td>1</td>\n",
       "    </tr>\n",
       "    <tr>\n",
       "      <th>37195</th>\n",
       "      <td>[chess, movies, made, last, couple, years, one...</td>\n",
       "      <td>1</td>\n",
       "    </tr>\n",
       "    <tr>\n",
       "      <th>39318</th>\n",
       "      <td>[strained, comedy, sketch, like, revue, initia...</td>\n",
       "      <td>0</td>\n",
       "    </tr>\n",
       "    <tr>\n",
       "      <th>19611</th>\n",
       "      <td>[direction, wong, perhaps, time, worst, film, ...</td>\n",
       "      <td>0</td>\n",
       "    </tr>\n",
       "    <tr>\n",
       "      <th>14052</th>\n",
       "      <td>[reason, norliss, tapes, deserves, stars, pres...</td>\n",
       "      <td>0</td>\n",
       "    </tr>\n",
       "    <tr>\n",
       "      <th>1375</th>\n",
       "      <td>[skimming, list, films, richard, burton, came,...</td>\n",
       "      <td>0</td>\n",
       "    </tr>\n",
       "    <tr>\n",
       "      <th>18405</th>\n",
       "      <td>[saw, detroit, must, original, run, literally,...</td>\n",
       "      <td>1</td>\n",
       "    </tr>\n",
       "    <tr>\n",
       "      <th>49050</th>\n",
       "      <td>[movie, clumsy, mishmash, various, ghost, stor...</td>\n",
       "      <td>0</td>\n",
       "    </tr>\n",
       "    <tr>\n",
       "      <th>37427</th>\n",
       "      <td>[mistress, craft, celeste, works, agent, londo...</td>\n",
       "      <td>0</td>\n",
       "    </tr>\n",
       "    <tr>\n",
       "      <th>28689</th>\n",
       "      <td>[canto, 1, kriemhild, mourned, siegfried, king...</td>\n",
       "      <td>1</td>\n",
       "    </tr>\n",
       "  </tbody>\n",
       "</table>\n",
       "</div>"
      ],
      "text/plain": [
       "                                                  review  sentiment\n",
       "20145  [tragedy, doomed, ship, titanic, inspired, man...          0\n",
       "13741  [love, movie, disney, channel, ridiculous, pla...          1\n",
       "5737   [cowboys, james, stewart, walter, brennan, tak...          1\n",
       "49727  [anthology, horror, film, made, 4, short, stor...          0\n",
       "39409  [death, george, nader, 4, february, 2002, thou...          1\n",
       "14455  [hilarious, sellers, funniest, shame, get, vid...          1\n",
       "31328  [without, doubt, worst, movie, ever, seen, fun...          0\n",
       "42954  [movie, fun, especially, 8, 15, frankie, muniz...          1\n",
       "40504  [good, gets, six, episodes, tracing, briefly, ...          1\n",
       "527    [ever, heard, saying, people, telegraph, inten...          0\n",
       "1355   [huge, fan, comes, doctor, series, still, disa...          0\n",
       "47529  [plot, line, expose, belly, american, politics...          1\n",
       "48842  [trusted, instincts, better, expectations, dis...          0\n",
       "6534   [norma, spent, 20s, playing, beautiful, ingenu...          1\n",
       "30114  [set, 2017, although, one, might, easily, mist...          1\n",
       "30143  [wow, curse, michael, myers, great, film, susp...          1\n",
       "35453  [despite, negative, comments, film, garnered, ...          1\n",
       "29106  [columbo, unique, really, know, exact, outcome...          1\n",
       "37986  [name, identity, memories, lost, girlfriend, w...          1\n",
       "39425  [ccmovieman, 1, must, reviewer, new, york, tim...          1\n",
       "40872  [like, movie, least, vestige, story, occur, mo...          0\n",
       "8283   [sure, expect, glad, went, see, smart, slightl...          1\n",
       "21225  [hollywood, hotel, relationships, many, films,...          1\n",
       "5017   [one, favorite, movies, childhood, watched, ma...          1\n",
       "42642  [movie, simply, awesome, hilarious, although, ...          1\n",
       "36976  [movie, awful, even, know, begin, speechless, ...          0\n",
       "3000   [bought, set, 4, dvds, 10, bucks, local, sunco...          0\n",
       "38061  [seen, four, japanese, horror, films, impressi...          0\n",
       "10610  [may, say, johnson, elvis, work, possible, see...          0\n",
       "40694  [excellent, family, movie, gives, lot, think, ...          1\n",
       "19204  [excellent, idea, scenery, beautiful, ends, se...          0\n",
       "47329  [featured, 2006, cannes, film, festival, gaini...          1\n",
       "26510  [first, saw, picked, suggestion, tivo, system,...          0\n",
       "37041  [dashing, errol, flynn, brings, usual, flair, ...          1\n",
       "20715  [massive, hitchcock, fan, ever, since, seeing,...          1\n",
       "33539  [always, suprised, different, people, almost, ...          0\n",
       "48253  [movie, took, jerry, springer, approach, super...          1\n",
       "31436  [back, mid, late, 80s, oav, anime, title, bubb...          1\n",
       "44875  [come, worse, time, nation, entering, reagan, ...          1\n",
       "39598  [film, friðrik, þór, director, children, natur...          1\n",
       "13614  [sweden, seen, movie, thing, thought, okay, se...          1\n",
       "37195  [chess, movies, made, last, couple, years, one...          1\n",
       "39318  [strained, comedy, sketch, like, revue, initia...          0\n",
       "19611  [direction, wong, perhaps, time, worst, film, ...          0\n",
       "14052  [reason, norliss, tapes, deserves, stars, pres...          0\n",
       "1375   [skimming, list, films, richard, burton, came,...          0\n",
       "18405  [saw, detroit, must, original, run, literally,...          1\n",
       "49050  [movie, clumsy, mishmash, various, ghost, stor...          0\n",
       "37427  [mistress, craft, celeste, works, agent, londo...          0\n",
       "28689  [canto, 1, kriemhild, mourned, siegfried, king...          1"
      ]
     },
     "execution_count": 70,
     "metadata": {},
     "output_type": "execute_result"
    }
   ],
   "source": [
    "df"
   ]
  },
  {
   "cell_type": "code",
   "execution_count": 71,
   "id": "ee647a1c",
   "metadata": {},
   "outputs": [],
   "source": [
    "from nltk.stem.porter import PorterStemmer\n",
    "ps = PorterStemmer()"
   ]
  },
  {
   "cell_type": "code",
   "execution_count": 72,
   "id": "2355c96c",
   "metadata": {},
   "outputs": [],
   "source": [
    "y=[]\n",
    "def steam_word(text):\n",
    "    for i in text:\n",
    "        y.append(ps.stem(i))\n",
    "    z=y[:]\n",
    "    y.clear()\n",
    "    return z"
   ]
  },
  {
   "cell_type": "code",
   "execution_count": 73,
   "id": "4bed74de",
   "metadata": {},
   "outputs": [
    {
     "data": {
      "text/plain": [
       "['i', 'play', 'play', 'it']"
      ]
     },
     "execution_count": 73,
     "metadata": {},
     "output_type": "execute_result"
    }
   ],
   "source": [
    "steam_word(['i','play','playing','it'])"
   ]
  },
  {
   "cell_type": "code",
   "execution_count": 74,
   "id": "d1f172b6",
   "metadata": {},
   "outputs": [],
   "source": [
    "df['review']=df['review'].apply(steam_word)"
   ]
  },
  {
   "cell_type": "code",
   "execution_count": 75,
   "id": "176846fe",
   "metadata": {},
   "outputs": [],
   "source": [
    "#join back\n",
    "def join_back(list_input):\n",
    "    return \" \".join(list_input)"
   ]
  },
  {
   "cell_type": "code",
   "execution_count": 76,
   "id": "afec4cf6",
   "metadata": {},
   "outputs": [],
   "source": [
    "df['review']=df['review'].apply(join_back)"
   ]
  },
  {
   "cell_type": "code",
   "execution_count": 77,
   "id": "ebd38d0e",
   "metadata": {},
   "outputs": [
    {
     "data": {
      "text/plain": [
       "20145    tragedi doom ship titan inspir mani book movi ...\n",
       "13741    love movi disney channel ridicul play anymor t...\n",
       "5737     cowboy jame stewart walter brennan take herd s...\n",
       "49727    antholog horror film made 4 short stori taken ...\n",
       "39409    death georg nader 4 februari 2002 thought inte...\n",
       "14455    hilari seller funniest shame get video even se...\n",
       "31328    without doubt worst movi ever seen funni inter...\n",
       "42954    movi fun especi 8 15 franki muniz amanda byne ...\n",
       "40504    good get six episod trace briefli life may lik...\n",
       "527      ever heard say peopl telegraph intent well mov...\n",
       "1355     huge fan come doctor seri still disappoint beg...\n",
       "47529    plot line expos belli american polit theme see...\n",
       "48842    trust instinct better expect disappoint instea...\n",
       "6534     norma spent 20 play beauti ingenu first talki ...\n",
       "30114    set 2017 although one might easili mistak 1987...\n",
       "30143    wow curs michael myer great film suspens enter...\n",
       "35453    despit neg comment film garner imdb page still...\n",
       "29106    columbo uniqu realli know exact outcom end fav...\n",
       "37986    name ident memori lost girlfriend want disappe...\n",
       "39425    ccmovieman 1 must review new york time prefer ...\n",
       "40872    like movi least vestig stori occur movi seri v...\n",
       "8283     sure expect glad went see smart slightli twist...\n",
       "21225    hollywood hotel relationship mani film like el...\n",
       "5017     one favorit movi childhood watch mani time eve...\n",
       "42642    movi simpli awesom hilari although skate monta...\n",
       "36976    movi aw even know begin speechless even descri...\n",
       "3000     bought set 4 dvd 10 buck local suncoast contai...\n",
       "38061    seen four japanes horror film impress howev co...\n",
       "10610    may say johnson elvi work possibl seem like te...\n",
       "40694    excel famili movi give lot think absolut noth ...\n",
       "19204    excel idea sceneri beauti end seem like lacklu...\n",
       "47329    featur 2006 cann film festiv gain quit fame mo...\n",
       "26510    first saw pick suggest tivo system like danni ...\n",
       "37041    dash errol flynn bring usual flair drama histo...\n",
       "20715    massiv hitchcock fan ever sinc see rear window...\n",
       "33539    alway supris differ peopl almost everi movi ge...\n",
       "48253    movi took jerri springer approach super human ...\n",
       "31436    back mid late 80 oav anim titl bubblegum crisi...\n",
       "44875    come wors time nation enter reagan year boom b...\n",
       "39598    film friðrik þór director children natur power...\n",
       "13614    sweden seen movi thing thought okay seen mani ...\n",
       "37195    chess movi made last coupl year one chess movi...\n",
       "39318    strain comedi sketch like revu initi vehicl sh...\n",
       "19611    direct wong perhap time worst film histori eve...\n",
       "14052    reason norliss tape deserv star presenc angi d...\n",
       "1375     skim list film richard burton came titl recal ...\n",
       "18405    saw detroit must origin run liter roll aisl th...\n",
       "49050    movi clumsi mishmash variou ghost stori suspen...\n",
       "37427    mistress craft celest work agent london branch...\n",
       "28689    canto 1 kriemhild mourn siegfri king attila wo...\n",
       "Name: review, dtype: object"
      ]
     },
     "execution_count": 77,
     "metadata": {},
     "output_type": "execute_result"
    }
   ],
   "source": [
    "df['review']"
   ]
  },
  {
   "cell_type": "code",
   "execution_count": 78,
   "id": "eb3bfef2",
   "metadata": {},
   "outputs": [],
   "source": [
    "X=df.iloc[:,0:1].values"
   ]
  },
  {
   "cell_type": "code",
   "execution_count": 79,
   "id": "8866c568",
   "metadata": {},
   "outputs": [
    {
     "data": {
      "text/plain": [
       "(50, 1)"
      ]
     },
     "execution_count": 79,
     "metadata": {},
     "output_type": "execute_result"
    }
   ],
   "source": [
    "X.shape"
   ]
  },
  {
   "cell_type": "code",
   "execution_count": 80,
   "id": "94b6783e",
   "metadata": {},
   "outputs": [],
   "source": [
    "from sklearn.feature_extraction.text import CountVectorizer\n",
    "cv = CountVectorizer(max_features=5)"
   ]
  },
  {
   "cell_type": "code",
   "execution_count": 81,
   "id": "5537da27",
   "metadata": {},
   "outputs": [],
   "source": [
    "X= cv.fit_transform(df['review']).toarray()"
   ]
  },
  {
   "cell_type": "code",
   "execution_count": 82,
   "id": "ac5ddcfb",
   "metadata": {},
   "outputs": [
    {
     "data": {
      "text/plain": [
       "(50, 5)"
      ]
     },
     "execution_count": 82,
     "metadata": {},
     "output_type": "execute_result"
    }
   ],
   "source": [
    "X.shape"
   ]
  },
  {
   "cell_type": "code",
   "execution_count": 83,
   "id": "a7e3771d",
   "metadata": {},
   "outputs": [],
   "source": [
    "Make_data_frame = pd.DataFrame(X)"
   ]
  },
  {
   "cell_type": "code",
   "execution_count": 84,
   "id": "8ef8d0df",
   "metadata": {},
   "outputs": [],
   "source": [
    "Make_data_frame.to_csv('convert_to_numpy.csv',header=False,index=False)"
   ]
  },
  {
   "cell_type": "code",
   "execution_count": 85,
   "id": "befce3f7",
   "metadata": {},
   "outputs": [
    {
     "data": {
      "text/plain": [
       "6"
      ]
     },
     "execution_count": 85,
     "metadata": {},
     "output_type": "execute_result"
    }
   ],
   "source": [
    "X[0].max()"
   ]
  },
  {
   "cell_type": "code",
   "execution_count": 86,
   "id": "cce2049b",
   "metadata": {},
   "outputs": [],
   "source": [
    "Y=df.iloc[:,-1].values"
   ]
  },
  {
   "cell_type": "code",
   "execution_count": 87,
   "id": "58d80833",
   "metadata": {},
   "outputs": [
    {
     "data": {
      "text/plain": [
       "(50,)"
      ]
     },
     "execution_count": 87,
     "metadata": {},
     "output_type": "execute_result"
    }
   ],
   "source": [
    "Y.shape"
   ]
  },
  {
   "cell_type": "code",
   "execution_count": 88,
   "id": "d0be2c42",
   "metadata": {},
   "outputs": [],
   "source": [
    "# now train your model"
   ]
  }
 ],
 "metadata": {
  "kernelspec": {
   "display_name": "Python 3 (ipykernel)",
   "language": "python",
   "name": "python3"
  },
  "language_info": {
   "codemirror_mode": {
    "name": "ipython",
    "version": 3
   },
   "file_extension": ".py",
   "mimetype": "text/x-python",
   "name": "python",
   "nbconvert_exporter": "python",
   "pygments_lexer": "ipython3",
   "version": "3.10.9"
  }
 },
 "nbformat": 4,
 "nbformat_minor": 5
}
